{
  "nbformat": 4,
  "nbformat_minor": 0,
  "metadata": {
    "colab": {
      "provenance": [],
      "authorship_tag": "ABX9TyPJql+ycglg+lBCt4Dd4y99",
      "include_colab_link": true
    },
    "kernelspec": {
      "name": "python3",
      "display_name": "Python 3"
    },
    "language_info": {
      "name": "python"
    }
  },
  "cells": [
    {
      "cell_type": "markdown",
      "metadata": {
        "id": "view-in-github",
        "colab_type": "text"
      },
      "source": [
        "<a href=\"https://colab.research.google.com/github/Froeseler/ppside-revisao-modulos-1-2/blob/main/atividade_final_mod_python.ipynb\" target=\"_parent\"><img src=\"https://colab.research.google.com/assets/colab-badge.svg\" alt=\"Open In Colab\"/></a>"
      ]
    },
    {
      "cell_type": "markdown",
      "source": [
        "# Lista de Exercícios - Revisão Módulos 1 e 2\n"
      ],
      "metadata": {
        "id": "Z-ol5ceWf30n"
      }
    },
    {
      "cell_type": "markdown",
      "source": [
        "## Exercício 1 - Entrada e Saída Simples\n",
        "\n",
        "**Descrição:**\n",
        "- Peça ao usuário o nome e a idade.\n",
        "- Exiba a mensagem:\n",
        "> Olá, [nome]! Você tem [idade] anos.\n"
      ],
      "metadata": {
        "id": "tcYOzdOoaLYZ"
      }
    },
    {
      "cell_type": "code",
      "source": [
        "nome = input(\"Digite seu nome: \")\n",
        "idade = int(input(\"Digite sua idade: \"))\n",
        "print(f\"Olá, {nome}! Você tem {idade} anos.\")\n"
      ],
      "metadata": {
        "id": "Xm0iAhEQaRfr"
      },
      "execution_count": null,
      "outputs": []
    },
    {
      "cell_type": "markdown",
      "source": [
        "## Exercício 2 - Tipos de Dados e Conversão\n",
        "\n",
        "**Descrição:**\n",
        "- Peça dois números ao usuário.\n",
        "- Some-os e exiba o resultado.\n",
        "- Mostre também o tipo da variável resultado.\n"
      ],
      "metadata": {
        "id": "d9nRytCyaVWG"
      }
    },
    {
      "cell_type": "code",
      "source": [
        "num1 = float(input(\"Digite o primeiro número: \"))\n",
        "num2 = float(input(\"Digite o segundo número: \"))\n",
        "soma = num1 + num2\n",
        "print(\"Soma:\", soma)\n",
        "print(\"Tipo da variável soma:\", type(soma))\n"
      ],
      "metadata": {
        "id": "FX9ld5ZkaalZ"
      },
      "execution_count": null,
      "outputs": []
    },
    {
      "cell_type": "markdown",
      "source": [
        "## Exercício 3 - Modo Interativo (input)\n",
        "\n",
        "**Descrição:**\n",
        "- Peça ao usuário o preço de um produto.\n",
        "- Peça a quantidade.\n",
        "- Calcule e exiba o total a pagar.\n"
      ],
      "metadata": {
        "id": "LeKgtjJqapj8"
      }
    },
    {
      "cell_type": "code",
      "source": [
        "preco = float(input(\"Preço do produto: \"))\n",
        "quantidade = int(input(\"Quantidade: \"))\n",
        "total = preco * quantidade\n",
        "print(f\"Total a pagar: R$ {total:.2f}\")\n"
      ],
      "metadata": {
        "id": "a6-JQfwAajj_"
      },
      "execution_count": null,
      "outputs": []
    },
    {
      "cell_type": "markdown",
      "source": [
        "## Exercício 4 - Operações Matemáticas Básicas\n",
        "\n",
        "**Descrição:**\n",
        "- Peça dois números.\n",
        "- Calcule e exiba:\n",
        "    - soma\n",
        "    - subtração\n",
        "    - multiplicação\n",
        "    - divisão\n",
        "    - divisão inteira\n",
        "    - módulo\n",
        "    - potência\n"
      ],
      "metadata": {
        "id": "VKuY4yEba0ZG"
      }
    },
    {
      "cell_type": "code",
      "source": [
        "a = float(input(\"Digite o primeiro número: \"))\n",
        "b = float(input(\"Digite o segundo número: \"))\n",
        "\n",
        "print(\"Soma:\", a + b)\n",
        "print(\"Subtração:\", a - b)\n",
        "print(\"Multiplicação:\", a * b)\n",
        "print(\"Divisão:\", a / b)\n",
        "print(\"Divisão inteira:\", a // b)\n",
        "print(\"Módulo:\", a % b)\n",
        "print(\"Potência:\", a ** b)\n"
      ],
      "metadata": {
        "id": "CmTWyXSKa2T7"
      },
      "execution_count": null,
      "outputs": []
    },
    {
      "cell_type": "markdown",
      "source": [
        "## Exercício 5 - Precedência de Operadores\n",
        "\n",
        "**Descrição:**\n",
        "- Resolva a expressão `10 + 20 * 3` em Python.\n",
        "- Explique o resultado.\n"
      ],
      "metadata": {
        "id": "HmHGnNE8a8Ql"
      }
    },
    {
      "cell_type": "code",
      "source": [
        "expressao = 10 + 20 * 3\n",
        "print(\"Resultado:\", expressao)\n",
        "# 20*3 = 60, depois soma 10 = 70\n",
        "print(\"Explicação: primeiro a multiplicação (20*3), depois a soma (+10).\")\n"
      ],
      "metadata": {
        "id": "4f6qeD6abC4r"
      },
      "execution_count": null,
      "outputs": []
    },
    {
      "cell_type": "markdown",
      "source": [
        "## Exercício 6 - Comparação Simples\n",
        "\n",
        "**Descrição:**\n",
        "- Peça dois números.\n",
        "- Diga se o primeiro é maior, menor ou igual ao segundo.\n"
      ],
      "metadata": {
        "id": "VGYmhw6mbGpI"
      }
    },
    {
      "cell_type": "code",
      "source": [
        "n1 = float(input(\"Digite um número: \"))\n",
        "n2 = float(input(\"Digite outro número: \"))\n",
        "\n",
        "if n1 > n2:\n",
        "    print(\"O primeiro é maior.\")\n",
        "elif n1 < n2:\n",
        "    print(\"O primeiro é menor.\")\n",
        "else:\n",
        "    print(\"São iguais.\")\n"
      ],
      "metadata": {
        "id": "Kj0UJyTybJZg"
      },
      "execution_count": null,
      "outputs": []
    },
    {
      "cell_type": "markdown",
      "source": [
        "## Exercício 7 - Comparação com Strings\n",
        "\n",
        "**Descrição:**\n",
        "- Peça duas palavras ao usuário.\n",
        "- Diga se são iguais ou diferentes.\n",
        "\n"
      ],
      "metadata": {
        "id": "-wJitS0vbRCa"
      }
    },
    {
      "cell_type": "code",
      "source": [
        "p1 = input(\"Digite a primeira palavra: \")\n",
        "p2 = input(\"Digite a segunda palavra: \")\n",
        "\n",
        "if p1 == p2:\n",
        "    print(\"As palavras são iguais.\")\n",
        "else:\n",
        "    print(\"As palavras são diferentes.\")\n"
      ],
      "metadata": {
        "id": "kUtgFzUobVOf"
      },
      "execution_count": null,
      "outputs": []
    },
    {
      "cell_type": "markdown",
      "source": [
        "## Exercício 8 - Operadores de Atribuição\n",
        "\n",
        "**Descrição:**\n",
        "- Peça um número ao usuário.\n",
        "- Incremente-o de 10 usando +=.\n",
        "- Depois, diminua 5 usando -=.\n",
        "- Exiba o resultado final.\n"
      ],
      "metadata": {
        "id": "ivDGwBRkbeU3"
      }
    },
    {
      "cell_type": "markdown",
      "source": [],
      "metadata": {
        "id": "z3WF485kbLOI"
      }
    },
    {
      "cell_type": "code",
      "source": [
        "numero = int(input(\"Digite um número: \"))\n",
        "numero += 10\n",
        "numero -= 5\n",
        "print(\"Resultado final:\", numero)\n"
      ],
      "metadata": {
        "id": "nhJZPXbfbfM0"
      },
      "execution_count": null,
      "outputs": []
    },
    {
      "cell_type": "markdown",
      "source": [
        "## Exercício 9 - Operadores Lógicos\n",
        "\n",
        "**Descrição:**\n",
        "- Peça idade e renda mensal do usuário.\n",
        "- Só permita empréstimo se ele tiver mais de 18 anos e renda maior que R$ 1.500.\n"
      ],
      "metadata": {
        "id": "52OFnlP0bjuj"
      }
    },
    {
      "cell_type": "code",
      "source": [
        "idade = int(input(\"Digite sua idade: \"))\n",
        "renda = float(input(\"Digite sua renda mensal: \"))\n",
        "\n",
        "if idade > 18 and renda > 1500:\n",
        "    print(\"Empréstimo autorizado!\")\n",
        "else:\n",
        "    print(\"Empréstimo negado.\")\n"
      ],
      "metadata": {
        "id": "AGRVHrLtbm_l"
      },
      "execution_count": null,
      "outputs": []
    },
    {
      "cell_type": "markdown",
      "source": [
        "## Exercício 10 - Operadores Lógicos com not\n",
        "\n",
        "**Descrição:**\n",
        "- Pergunte se o usuário tem carteira de motorista (responda 'sim' ou 'não').\n",
        "- Só autorize dirigir se a resposta for 'sim'.\n"
      ],
      "metadata": {
        "id": "FPmRZCi1bvlk"
      }
    },
    {
      "cell_type": "markdown",
      "source": [],
      "metadata": {
        "id": "HXltNApTyOzC"
      }
    },
    {
      "cell_type": "code",
      "source": [
        "carteira = input(\"Você tem carteira de motorista? (sim/não) \").strip().lower()\n",
        "\n",
        "if not carteira == \"sim\":\n",
        "    print(\"Não pode dirigir!\")\n",
        "else:\n",
        "    print(\"Está autorizado a dirigir.\")\n"
      ],
      "metadata": {
        "id": "IvbPSuyCbwaP"
      },
      "execution_count": null,
      "outputs": []
    },
    {
      "cell_type": "markdown",
      "source": [
        "## Exercício 11 - Condicional Simples\n",
        "\n",
        "**Descrição:**\n",
        "- Verifique se um número informado é positivo, negativo ou zero.\n"
      ],
      "metadata": {
        "id": "sWDPx2v0dG23"
      }
    },
    {
      "cell_type": "code",
      "source": [
        "num = float(input(\"Digite um número: \"))\n",
        "\n",
        "if num > 0:\n",
        "    print(\"Positivo.\")\n",
        "elif num < 0:\n",
        "    print(\"Negativo.\")\n",
        "else:\n",
        "    print(\"Zero.\")\n"
      ],
      "metadata": {
        "id": "sUP1KPLedJ3v"
      },
      "execution_count": null,
      "outputs": []
    },
    {
      "cell_type": "markdown",
      "source": [
        "## Exercício 12 - Verificação de Notas\n",
        "\n",
        "**Descrição:**\n",
        "- Peça a nota de um aluno.\n",
        "- Se for >= 7, exiba \"Aprovado\".\n",
        "- Se estiver entre 5 e 6.9, exiba \"Recuperação\".\n",
        "- Senão, exiba \"Reprovado\".\n"
      ],
      "metadata": {
        "id": "kg0ppHk1dTYn"
      }
    },
    {
      "cell_type": "code",
      "source": [
        "nota = float(input(\"Digite a nota do aluno: \"))\n",
        "\n",
        "if nota >= 7:\n",
        "    print(\"Aprovado\")\n",
        "elif 5 <= nota < 7:\n",
        "    print(\"Recuperação\")\n",
        "else:\n",
        "    print(\"Reprovado\")\n"
      ],
      "metadata": {
        "id": "8_OqMCoUdVJn"
      },
      "execution_count": null,
      "outputs": []
    },
    {
      "cell_type": "markdown",
      "source": [
        "## Exercício 13 - If Aninhado\n",
        "\n",
        "**Descrição:**\n",
        "- Peça idade e sexo do usuário.\n",
        "- Exiba uma mensagem diferente para cada combinação (homem maior de idade, mulher menor de idade, etc).\n"
      ],
      "metadata": {
        "id": "2uKYmw5LdWfy"
      }
    },
    {
      "cell_type": "code",
      "source": [
        "idade = int(input(\"Digite sua idade: \"))\n",
        "sexo = input(\"Digite seu sexo (M/F): \").upper()\n",
        "\n",
        "if sexo == \"M\":\n",
        "    if idade >= 18:\n",
        "        print(\"Homem maior de idade.\")\n",
        "    else:\n",
        "        print(\"Homem menor de idade.\")\n",
        "elif sexo == \"F\":\n",
        "    if idade >= 18:\n",
        "        print(\"Mulher maior de idade.\")\n",
        "    else:\n",
        "        print(\"Mulher menor de idade.\")\n",
        "else:\n",
        "    print(\"Sexo inválido.\")\n"
      ],
      "metadata": {
        "id": "gheZeh1UdYJs"
      },
      "execution_count": null,
      "outputs": []
    },
    {
      "cell_type": "markdown",
      "source": [
        "## Exercício 14 - If Ternário\n",
        "\n",
        "**Descrição:**\n",
        "- Peça a idade do usuário.\n",
        "- Use if ternário para dizer se ele é maior ou menor de idade.\n"
      ],
      "metadata": {
        "id": "CTuutJTCdaGQ"
      }
    },
    {
      "cell_type": "code",
      "source": [
        "idade = int(input(\"Digite sua idade: \"))\n",
        "msg = \"Maior de idade\" if idade >= 18 else \"Menor de idade\"\n",
        "print(msg)\n"
      ],
      "metadata": {
        "id": "SIIBjHcfdbnW"
      },
      "execution_count": null,
      "outputs": []
    },
    {
      "cell_type": "markdown",
      "source": [
        "## Exercício 15 - Contagem com for e range\n",
        "\n",
        "**Descrição:**\n",
        "- Imprima os números de 1 a 10 usando for e range.\n"
      ],
      "metadata": {
        "id": "YUsBL8uFdc4L"
      }
    },
    {
      "cell_type": "code",
      "source": [
        "for i in range(1, 11):\n",
        "    print(i)\n"
      ],
      "metadata": {
        "id": "r_d2-c3rdeYm"
      },
      "execution_count": null,
      "outputs": []
    },
    {
      "cell_type": "markdown",
      "source": [
        "## Exercício 16 - Tabuada com for\n",
        "\n",
        "**Descrição:**\n",
        "- Peça um número ao usuário.\n",
        "- Exiba a tabuada dele de 1 a 10.\n"
      ],
      "metadata": {
        "id": "2ML2u8YTdhcQ"
      }
    },
    {
      "cell_type": "code",
      "source": [
        "num = int(input(\"Digite um número: \"))\n",
        "\n",
        "for i in range(1, 11):\n",
        "    print(f\"{num} x {i} = {num * i}\")\n"
      ],
      "metadata": {
        "id": "yhiPUoIhdjAC"
      },
      "execution_count": null,
      "outputs": []
    },
    {
      "cell_type": "markdown",
      "source": [
        "## Exercício 17 - Loop while (Adivinhação)\n",
        "\n",
        "**Descrição:**\n",
        "- Peça para o usuário adivinhar um número entre 1 e 5.\n",
        "- Use um loop while até ele acertar.\n"
      ],
      "metadata": {
        "id": "jCSPqR9kdsc3"
      }
    },
    {
      "cell_type": "code",
      "source": [
        "import random\n",
        "\n",
        "numero_secreto = random.randint(1, 5)\n",
        "palpite = 0\n",
        "\n",
        "while palpite != numero_secreto:\n",
        "    palpite = int(input(\"Adivinhe um número entre 1 e 5: \"))\n",
        "print(\"Acertou!\")\n"
      ],
      "metadata": {
        "id": "1L4VB12JdpCO"
      },
      "execution_count": null,
      "outputs": []
    },
    {
      "cell_type": "markdown",
      "source": [
        "## Exercício 18 - For/Else ou While/Else\n",
        "\n",
        "**Descrição:**\n",
        "- Permita 5 tentativas para adivinhar um número secreto.\n",
        "- Se errar todas, exiba \"Suas tentativas acabaram!\".\n"
      ],
      "metadata": {
        "id": "YivBledgdwKG"
      }
    },
    {
      "cell_type": "code",
      "source": [
        "import random\n",
        "\n",
        "numero_secreto = random.randint(1, 10)\n",
        "tentativas = 0\n",
        "\n",
        "while tentativas < 5:\n",
        "    palpite = int(input(\"Adivinhe o número (1-10): \"))\n",
        "    if palpite == numero_secreto:\n",
        "        print(\"Acertou!\")\n",
        "        break\n",
        "    tentativas += 1\n",
        "else:\n",
        "    print(\"Suas tentativas acabaram!\")\n"
      ],
      "metadata": {
        "id": "HjVxump5dxyR"
      },
      "execution_count": null,
      "outputs": []
    },
    {
      "cell_type": "markdown",
      "source": [
        "## Exercício 19 - Métodos de String\n",
        "\n",
        "**Descrição:**\n",
        "- Peça uma frase ao usuário.\n",
        "- Mostre:\n",
        "  - Quantas letras tem (sem contar espaços)\n",
        "  - Quantas palavras tem\n",
        "  - A frase toda em maiúsculas\n"
      ],
      "metadata": {
        "id": "EnsUoWYcdzfk"
      }
    },
    {
      "cell_type": "code",
      "source": [
        "frase = input(\"Digite uma frase: \")\n",
        "\n",
        "print(\"Quantidade de letras:\", len(frase.replace(\" \", \"\")))\n",
        "print(\"Quantidade de palavras:\", len(frase.split()))\n",
        "print(\"Maiúsculas:\", frase.upper())\n"
      ],
      "metadata": {
        "id": "v3dIBrQyd1BU"
      },
      "execution_count": null,
      "outputs": []
    },
    {
      "cell_type": "markdown",
      "source": [
        "## Exercício 20 - Fatiamento de Strings\n",
        "\n",
        "**Descrição:**\n",
        "- Peça um nome completo.\n",
        "- Exiba apenas o primeiro e o último nome.\n"
      ],
      "metadata": {
        "id": "rldPu3FGd7kD"
      }
    },
    {
      "cell_type": "code",
      "source": [
        "nome_completo = input(\"Digite seu nome completo: \").strip()\n",
        "partes = nome_completo.split()\n",
        "\n",
        "primeiro = partes[0]\n",
        "ultimo = partes[-1]\n",
        "\n",
        "print(\"Primeiro nome:\", primeiro)\n",
        "print(\"Último nome:\", ultimo)\n"
      ],
      "metadata": {
        "id": "F26C_nLCd9R2"
      },
      "execution_count": null,
      "outputs": []
    },
    {
      "cell_type": "markdown",
      "source": [
        "## Exercício 21 - String de Múltiplas Linhas\n",
        "\n",
        "**Descrição:**\n",
        "- Monte uma carta de boas-vindas usando uma string de múltiplas linhas (três aspas).\n"
      ],
      "metadata": {
        "id": "sIC5qb1peFnw"
      }
    },
    {
      "cell_type": "code",
      "source": [
        "nome = input(\"Digite seu nome: \")\n",
        "\n",
        "carta = f\"\"\"\n",
        "Olá, {nome}!\n",
        "\n",
        "Seja muito bem-vindo(a) ao nosso curso.\n",
        "Desejamos muito sucesso para você!\n",
        "\n",
        "Atenciosamente,\n",
        "Equipe PSIDE\n",
        "\"\"\"\n",
        "print(carta)\n"
      ],
      "metadata": {
        "id": "EQ3PbfV9eJ-a"
      },
      "execution_count": null,
      "outputs": []
    },
    {
      "cell_type": "markdown",
      "source": [
        "## Exercício 22 - Função Simples\n",
        "\n",
        "**Descrição:**\n",
        "- Crie uma função que receba dois números e retorne a soma.\n"
      ],
      "metadata": {
        "id": "YxFmasOOeL0n"
      }
    },
    {
      "cell_type": "code",
      "source": [
        "def soma(a, b):\n",
        "    return a + b\n",
        "\n",
        "print(\"Soma:\", soma(10, 5))\n"
      ],
      "metadata": {
        "id": "6uz5sKJNeQVX"
      },
      "execution_count": null,
      "outputs": []
    },
    {
      "cell_type": "markdown",
      "source": [
        "## Exercício 23 - Função com retorno e if\n",
        "\n",
        "**Descrição:**\n",
        "- Crie uma função que receba a idade e retorne se a pessoa é maior ou menor de idade.\n"
      ],
      "metadata": {
        "id": "zo3ye-mGeUB5"
      }
    },
    {
      "cell_type": "code",
      "source": [
        "def verifica_idade(idade):\n",
        "    return \"Maior de idade\" if idade >= 18 else \"Menor de idade\"\n",
        "\n",
        "idade = int(input(\"Digite sua idade: \"))\n",
        "print(verifica_idade(idade))\n"
      ],
      "metadata": {
        "id": "sMIOYOuBeV4B"
      },
      "execution_count": null,
      "outputs": []
    },
    {
      "cell_type": "markdown",
      "source": [
        "## Exercício 24 - Função com argumentos nomeados\n",
        "\n",
        "**Descrição:**\n",
        "- Crie uma função chamada `saudacao` que receba `nome` e `saudacao` (com valor padrão \"Olá\").\n",
        "- Exiba a mensagem personalizada.\n"
      ],
      "metadata": {
        "id": "l2Mjnu5XeYKH"
      }
    },
    {
      "cell_type": "code",
      "source": [
        "def saudacao(nome, saudacao=\"Olá\"):\n",
        "    print(f\"{saudacao}, {nome}!\")\n",
        "\n",
        "saudacao(\"Maria\")\n",
        "saudacao(\"Pedro\", saudacao=\"Bem-vindo\")\n"
      ],
      "metadata": {
        "id": "GnzZSBogea-p"
      },
      "execution_count": null,
      "outputs": []
    },
    {
      "cell_type": "markdown",
      "source": [
        "## Exercício 25 - Função com *args\n",
        "\n",
        "**Descrição:**\n",
        "- Crie uma função que receba várias notas e calcule a média.\n"
      ],
      "metadata": {
        "id": "J4a_mL5Ree-8"
      }
    },
    {
      "cell_type": "code",
      "source": [
        "def media(*notas):\n",
        "    return sum(notas) / len(notas)\n",
        "\n",
        "print(\"Média:\", media(7, 8, 9))\n"
      ],
      "metadata": {
        "id": "JT0TiySZef8e"
      },
      "execution_count": null,
      "outputs": []
    },
    {
      "cell_type": "markdown",
      "source": [
        "## Exercício 26 - Lista com Nomes\n",
        "\n",
        "**Descrição:**\n",
        "- Peça 5 nomes e armazene numa lista.\n",
        "- Exiba todos os nomes usando loop.\n"
      ],
      "metadata": {
        "id": "HYY3nY89ehZ0"
      }
    },
    {
      "cell_type": "code",
      "source": [
        "nomes = []\n",
        "for i in range(5):\n",
        "    nomes.append(input(f\"Digite o nome {i+1}: \"))\n",
        "\n",
        "for nome in nomes:\n",
        "    print(nome)\n"
      ],
      "metadata": {
        "id": "RkVPe01Ie8Qv"
      },
      "execution_count": null,
      "outputs": []
    },
    {
      "cell_type": "markdown",
      "source": [
        "## Exercício 27 - Tupla com Dias da Semana\n",
        "\n",
        "**Descrição:**\n",
        "- Crie uma tupla com os dias da semana.\n",
        "- Exiba o dia correspondente ao número digitado (1 a 7).\n"
      ],
      "metadata": {
        "id": "1j_9B9LVfAsI"
      }
    },
    {
      "cell_type": "code",
      "source": [
        "dias = (\"Segunda\", \"Terça\", \"Quarta\", \"Quinta\", \"Sexta\", \"Sábado\", \"Domingo\")\n",
        "\n",
        "n = int(input(\"Digite um número (1 a 7): \"))\n",
        "if 1 <= n <= 7:\n",
        "    print(\"Dia:\", dias[n-1])\n",
        "else:\n",
        "    print(\"Número inválido.\")\n"
      ],
      "metadata": {
        "id": "F54BbAoOfCam"
      },
      "execution_count": null,
      "outputs": []
    },
    {
      "cell_type": "markdown",
      "source": [
        "## Exercício 29 - Dicionário de Contatos\n",
        "\n",
        "**Descrição:**\n",
        "- Crie um dicionário com nome e telefone de 3 pessoas.\n",
        "- Exiba todos os contatos.\n"
      ],
      "metadata": {
        "id": "TrM9gJgwfTo3"
      }
    },
    {
      "cell_type": "code",
      "source": [
        "contatos = {}\n",
        "\n",
        "for i in range(3):\n",
        "    nome = input(f\"Digite o nome do contato {i+1}: \")\n",
        "    telefone = input(\"Digite o telefone: \")\n",
        "    contatos[nome] = telefone\n",
        "\n",
        "for nome, telefone in contatos.items():\n",
        "    print(f\"{nome}: {telefone}\")\n"
      ],
      "metadata": {
        "id": "D215HD33fWV3"
      },
      "execution_count": null,
      "outputs": []
    },
    {
      "cell_type": "markdown",
      "source": [
        "## Exercício 30 - Data e Hora Atual\n",
        "\n",
        "**Descrição:**\n",
        "- Exiba a data e hora atual.\n"
      ],
      "metadata": {
        "id": "ebFfnmh0fZSV"
      }
    },
    {
      "cell_type": "code",
      "source": [
        "import datetime\n",
        "\n",
        "agora = datetime.datetime.now()\n",
        "print(\"Data e hora atual:\", agora)\n"
      ],
      "metadata": {
        "id": "IK-QLDSmfcbJ"
      },
      "execution_count": null,
      "outputs": []
    },
    {
      "cell_type": "markdown",
      "source": [
        "## Exercício 31 - Diferença entre Datas\n",
        "\n",
        "**Descrição:**\n",
        "- Peça duas datas (dd/mm/aaaa).\n",
        "- Calcule quantos dias há de diferença entre elas.\n"
      ],
      "metadata": {
        "id": "8a7qgy2vfe3y"
      }
    },
    {
      "cell_type": "code",
      "source": [
        "from datetime import datetime\n",
        "\n",
        "data1 = input(\"Digite a primeira data (dd/mm/aaaa): \")\n",
        "data2 = input(\"Digite a segunda data (dd/mm/aaaa): \")\n",
        "\n",
        "d1 = datetime.strptime(data1, \"%d/%m/%Y\")\n",
        "d2 = datetime.strptime(data2, \"%d/%m/%Y\")\n",
        "\n",
        "diferenca = abs((d1 - d2).days)\n",
        "print(f\"Há {diferenca} dias de diferença entre as datas.\")\n"
      ],
      "metadata": {
        "id": "fc0Zww1dfkMS"
      },
      "execution_count": null,
      "outputs": []
    },
    {
      "cell_type": "markdown",
      "source": [
        "## Exercício 32 - Data Formatada\n",
        "\n",
        "**Descrição:**\n",
        "- Mostre a data atual no formato dd/mm/aaaa.\n"
      ],
      "metadata": {
        "id": "emYd7VFffoY1"
      }
    },
    {
      "cell_type": "code",
      "source": [
        "from datetime import datetime\n",
        "\n",
        "agora = datetime.now()\n",
        "print(\"Data formatada:\", agora.strftime(\"%d/%m/%Y\"))\n"
      ],
      "metadata": {
        "colab": {
          "base_uri": "https://localhost:8080/"
        },
        "id": "ms_VqDHCfpOu",
        "outputId": "feb812ee-54a5-4c83-98db-5c55cb017421"
      },
      "execution_count": 1,
      "outputs": [
        {
          "output_type": "stream",
          "name": "stdout",
          "text": [
            "Data formatada: 13/07/2025\n"
          ]
        }
      ]
    },
    {
      "cell_type": "markdown",
      "source": [
        "## Exercício 33 - Timezone\n",
        "\n",
        "**Descrição:**\n",
        "- Mostre a hora atual no Brasil e em outro país (ex.: Japão) usando `pytz`.\n"
      ],
      "metadata": {
        "id": "Kj4-hHBkfsb2"
      }
    },
    {
      "cell_type": "code",
      "source": [
        "import pytz\n",
        "from datetime import datetime\n",
        "\n",
        "# Hora Brasil\n",
        "fuso_brasil = pytz.timezone(\"America/Sao_Paulo\")\n",
        "hora_brasil = datetime.now(fuso_brasil)\n",
        "print(\"Hora Brasil:\", hora_brasil.strftime(\"%H:%M\"))\n",
        "\n",
        "# Hora Japão\n",
        "fuso_japao = pytz.timezone(\"Asia/Tokyo\")\n",
        "hora_japao = datetime.now(fuso_japao)\n",
        "print(\"Hora Japão:\", hora_japao.strftime(\"%H:%M\"))\n"
      ],
      "metadata": {
        "colab": {
          "base_uri": "https://localhost:8080/"
        },
        "id": "ZyIcTmExfuo8",
        "outputId": "823be622-961e-4585-8541-5a5ee5015e6c"
      },
      "execution_count": 2,
      "outputs": [
        {
          "output_type": "stream",
          "name": "stdout",
          "text": [
            "Hora Brasil: 17:38\n",
            "Hora Japão: 05:38\n"
          ]
        }
      ]
    }
  ]
}